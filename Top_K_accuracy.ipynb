{
 "cells": [
  {
   "cell_type": "code",
   "execution_count": null,
   "metadata": {},
   "outputs": [],
   "source": [
    "from rdkit import Chem, RDLogger \n",
    "RDLogger.DisableLog('rdApp.*')\n",
    "\n",
    "# remove the atom map numbers\n",
    "def demap(smi):\n",
    "    mol = Chem.MolFromSmiles(smi)\n",
    "    [atom.SetAtomMapNum(0) for atom in mol.GetAtoms()]\n",
    "    return set(Chem.MolToSmiles(mol).split('.'))\n",
    "\n",
    "# make sure the product contains more than 1 atom\n",
    "def clean_product(products):\n",
    "    products = '.'.join([product for product in products.split('.') if Chem.MolFromSmiles(product).GetNumAtoms() > 1])\n",
    "    return demap(products)\n",
    "        \n",
    "# match if ay least one product is recored in the prediction\n",
    "def exact_match(reactants, products, preds):\n",
    "    if len(products) == 0:\n",
    "        return 1\n",
    "    try:\n",
    "        for k, pred in enumerate(preds):\n",
    "            pred_set = reactants.union(set(pred.split('.')))\n",
    "            if pred_set.intersection(products):\n",
    "                return k+1\n",
    "        return -1\n",
    "    except:\n",
    "        return -1"
   ]
  },
  {
   "cell_type": "code",
   "execution_count": null,
   "metadata": {},
   "outputs": [],
   "source": [
    "import pandas as pd\n",
    "dataset = 'USPTO_480k'\n",
    "\n",
    "reactants = {}\n",
    "products = {}\n",
    "with open('data/%s/test.txt' % dataset, 'r') as f:\n",
    "    for i, line in enumerate(f.readlines()):\n",
    "        rxn = line.split(' ')[0]\n",
    "        reactant, product = rxn.split('>>')\n",
    "        reactants[i] = demap(reactant)\n",
    "        products[i] = clean_product(product)"
   ]
  },
  {
   "cell_type": "code",
   "execution_count": null,
   "metadata": {},
   "outputs": [],
   "source": [
    "scenario = 'mix' # sep or mix\n",
    "\n",
    "result_file = 'outputs/decoded_prediction/LocalTransform_%s.txt' % scenario\n",
    "\n",
    "results = {}\n",
    "scores = {}\n",
    "with open(result_file, 'r') as f:\n",
    "    for i, line in enumerate(f.readlines()):\n",
    "        line = line.split('\\n')[0]\n",
    "        i = int(line.split('\\t')[0])\n",
    "        predictions = line.split('\\t')[1:]\n",
    "        results[i] = [p.split(', ')[0] for p in predictions]\n",
    "        scores[i] = [p.split(', ')[1] for p in predictions]"
   ]
  },
  {
   "cell_type": "code",
   "execution_count": null,
   "metadata": {},
   "outputs": [],
   "source": [
    "exact_matches = []\n",
    "for i in range(len(results)):\n",
    "    exact_matches.append(exact_match(reactants[i], products[i], results[i]))\n",
    "    if i % 100 == 0:\n",
    "        print ('\\rCalculating top-k exact accuracy... %s/%s' % (i, len(results)), end='', flush=True)"
   ]
  },
  {
   "cell_type": "code",
   "execution_count": null,
   "metadata": {},
   "outputs": [],
   "source": [
    "ks = [1, 2, 3, 5]\n",
    "exact_accu = {k:0 for k in ks}\n",
    "for i in range(len(exact_matches)):\n",
    "    for k in ks:\n",
    "        if exact_matches[i] <= k and exact_matches[i] != -1:\n",
    "            exact_accu [k] += 1\n",
    "for k in ks:\n",
    "    print ('Top-%d accuracy: %.3f,' % (k, exact_accu[k]/len(results)))"
   ]
  }
 ],
 "metadata": {
  "kernelspec": {
   "display_name": "Python 3 (ipykernel)",
   "language": "python",
   "name": "python3"
  },
  "language_info": {
   "codemirror_mode": {
    "name": "ipython",
    "version": 3
   },
   "file_extension": ".py",
   "mimetype": "text/x-python",
   "name": "python",
   "nbconvert_exporter": "python",
   "pygments_lexer": "ipython3",
   "version": "3.9.7"
  }
 },
 "nbformat": 4,
 "nbformat_minor": 4
}
